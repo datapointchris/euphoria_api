{
 "cells": [
  {
   "cell_type": "code",
   "execution_count": 74,
   "metadata": {},
   "outputs": [],
   "source": [
    "from dataclasses import fields\n",
    "from datetime import datetime\n",
    "from zoneinfo import ZoneInfo\n",
    "from pydantic import BaseModel\n",
    "\n",
    "\n",
    "# @dataclass\n",
    "class Task(BaseModel):\n",
    "    id: int\n",
    "    name: str\n",
    "    category: str\n",
    "    priority: int\n",
    "    add_date: datetime = datetime.now(tz=ZoneInfo(\"America/Chicago\")).isoformat()\n",
    "    complete_date: datetime = None"
   ]
  },
  {
   "cell_type": "code",
   "execution_count": 75,
   "metadata": {},
   "outputs": [],
   "source": [
    "task = Task(id=1, name='task1', category='important', priority=25)"
   ]
  },
  {
   "cell_type": "code",
   "execution_count": 76,
   "metadata": {},
   "outputs": [
    {
     "data": {
      "text/plain": [
       "'{\"id\": 1, \"name\": \"task1\", \"category\": \"important\", \"priority\": 25, \"add_date\": 1651057130.425638, \"complete_date\": null}'"
      ]
     },
     "execution_count": 76,
     "metadata": {},
     "output_type": "execute_result"
    }
   ],
   "source": [
    "task.json()"
   ]
  },
  {
   "cell_type": "code",
   "execution_count": 78,
   "metadata": {},
   "outputs": [],
   "source": [
    "list(Task.__fields__)"
   ]
  },
  {
   "cell_type": "code",
   "execution_count": 84,
   "metadata": {},
   "outputs": [
    {
     "data": {
      "text/plain": [
       "'2022-04-27T22:31:09.129529-05:00'"
      ]
     },
     "execution_count": 84,
     "metadata": {},
     "output_type": "execute_result"
    }
   ],
   "source": [
    "datetime.now(tz=ZoneInfo(\"America/Chicago\")).isoformat()"
   ]
  },
  {
   "cell_type": "code",
   "execution_count": 86,
   "metadata": {},
   "outputs": [
    {
     "data": {
      "text/plain": [
       "['id', 'name', 'category', 'priority', 'add_date', 'complete_date']"
      ]
     },
     "execution_count": 86,
     "metadata": {},
     "output_type": "execute_result"
    }
   ],
   "source": [
    "list(task.__fields__)"
   ]
  },
  {
   "cell_type": "code",
   "execution_count": 85,
   "metadata": {},
   "outputs": [
    {
     "data": {
      "text/plain": [
       "(1, 'task1', 'important', 25, 1651057130.425638, None)"
      ]
     },
     "execution_count": 85,
     "metadata": {},
     "output_type": "execute_result"
    }
   ],
   "source": [
    "tuple(getattr(task, field) for field in list(task.__fields__) if field is not None)"
   ]
  },
  {
   "cell_type": "code",
   "execution_count": 92,
   "metadata": {},
   "outputs": [],
   "source": [
    "import psycopg\n",
    "\n"
   ]
  },
  {
   "cell_type": "code",
   "execution_count": 100,
   "metadata": {},
   "outputs": [
    {
     "name": "stdout",
     "output_type": "stream",
     "text": [
      "[(101, 'task 77.2', 'financial', 2, None, None), (105, 'chris', 'best', 1, None, None), (104, 'chris', 'best', 1, None, None)]\n"
     ]
    }
   ],
   "source": [
    "with psycopg.connect('postgresql:///euphoria') as cnx:\n",
    "    with cnx.cursor() as c:\n",
    "        res = c.execute('select * from tasks.tasks order by add_date desc').fetchall()\n",
    "print(res[:3])"
   ]
  },
  {
   "cell_type": "code",
   "execution_count": 99,
   "metadata": {},
   "outputs": [
    {
     "name": "stdout",
     "output_type": "stream",
     "text": [
      "<psycopg.Cursor [COMMAND_OK] [INTRANS] (user=chris database=euphoria) at 0x10a9a3b60>\n"
     ]
    }
   ],
   "source": [
    "with psycopg.connect('postgresql:///euphoria') as cnx:\n",
    "    with cnx.cursor() as c:\n",
    "        res = c.execute('''\n",
    "        insert into tasks.tasks (name, category, priority)\n",
    "        values\n",
    "        ('chris', 'best', 1);\n",
    "        ''')\n",
    "        print(res)"
   ]
  },
  {
   "cell_type": "code",
   "execution_count": 98,
   "metadata": {},
   "outputs": [
    {
     "data": {
      "text/plain": [
       "<psycopg.Cursor [closed] [BAD] at 0x10a9a37f0>"
      ]
     },
     "execution_count": 98,
     "metadata": {},
     "output_type": "execute_result"
    }
   ],
   "source": [
    "res"
   ]
  },
  {
   "cell_type": "code",
   "execution_count": 104,
   "metadata": {},
   "outputs": [
    {
     "data": {
      "text/plain": [
       "{'id': 1,\n",
       " 'name': 'task1',\n",
       " 'category': 'important',\n",
       " 'priority': 25,\n",
       " 'add_date': 1651057130.425638,\n",
       " 'complete_date': None}"
      ]
     },
     "execution_count": 104,
     "metadata": {},
     "output_type": "execute_result"
    }
   ],
   "source": [
    "task.dict()"
   ]
  },
  {
   "cell_type": "code",
   "execution_count": 109,
   "metadata": {},
   "outputs": [
    {
     "ename": "TypeError",
     "evalue": "sequence item 0: expected str instance, tuple found",
     "output_type": "error",
     "traceback": [
      "\u001b[0;31m---------------------------------------------------------------------------\u001b[0m",
      "\u001b[0;31mTypeError\u001b[0m                                 Traceback (most recent call last)",
      "\u001b[1;32m/Users/chris/github/projects/euphoria_api/euphoria_api/TESTING.ipynb Cell 13'\u001b[0m in \u001b[0;36m<cell line: 1>\u001b[0;34m()\u001b[0m\n\u001b[0;32m----> <a href='vscode-notebook-cell:/Users/chris/github/projects/euphoria_api/euphoria_api/TESTING.ipynb#ch0000017?line=0'>1</a>\u001b[0m \u001b[39m'\u001b[39;49m\u001b[39m, \u001b[39;49m\u001b[39m'\u001b[39;49m\u001b[39m.\u001b[39;49mjoin(task\u001b[39m.\u001b[39;49mdict()\u001b[39m.\u001b[39;49mitems())\n",
      "\u001b[0;31mTypeError\u001b[0m: sequence item 0: expected str instance, tuple found"
     ]
    }
   ],
   "source": [
    "', '.join(task.dict().items())"
   ]
  },
  {
   "cell_type": "code",
   "execution_count": 135,
   "metadata": {},
   "outputs": [
    {
     "data": {
      "text/plain": [
       "\"id = 1, name = 'task1', category = 'important', priority = 25, add_date = 1651057130.425638, complete_date = None\""
      ]
     },
     "execution_count": 135,
     "metadata": {},
     "output_type": "execute_result"
    }
   ],
   "source": [
    "\n",
    "stringify = lambda x: f\"'{x}'\" if isinstance(x, str) else x\n",
    "\", \".join([f'{k} = {stringify(v)}' for k, v in task.dict().items()])"
   ]
  },
  {
   "cell_type": "code",
   "execution_count": 132,
   "metadata": {},
   "outputs": [],
   "source": []
  },
  {
   "cell_type": "code",
   "execution_count": 134,
   "metadata": {},
   "outputs": [
    {
     "data": {
      "text/plain": [
       "\"'text'\""
      ]
     },
     "execution_count": 134,
     "metadata": {},
     "output_type": "execute_result"
    }
   ],
   "source": [
    "stringify('text')"
   ]
  },
  {
   "cell_type": "code",
   "execution_count": 124,
   "metadata": {},
   "outputs": [],
   "source": []
  },
  {
   "cell_type": "code",
   "execution_count": 129,
   "metadata": {},
   "outputs": [
    {
     "data": {
      "text/plain": [
       "NoneType"
      ]
     },
     "execution_count": 129,
     "metadata": {},
     "output_type": "execute_result"
    }
   ],
   "source": [
    "type(None)"
   ]
  },
  {
   "cell_type": "code",
   "execution_count": 128,
   "metadata": {},
   "outputs": [
    {
     "data": {
      "text/plain": [
       "'id = 1, name = task1, category = important, priority = 25, add_date = 1651057130.425638, complete_date = None'"
      ]
     },
     "execution_count": 128,
     "metadata": {},
     "output_type": "execute_result"
    }
   ],
   "source": [
    "\", \".join([f'{k} = {v}' for k, v in task.dict().items()])"
   ]
  },
  {
   "cell_type": "code",
   "execution_count": null,
   "metadata": {},
   "outputs": [],
   "source": []
  }
 ],
 "metadata": {
  "interpreter": {
   "hash": "d3e75300e739ccb15989a4e5d9300aaf23399ef76e4ea609fda804e0dfc5bd84"
  },
  "kernelspec": {
   "display_name": "Python 3.10.2 ('.venv': poetry)",
   "language": "python",
   "name": "python3"
  },
  "language_info": {
   "codemirror_mode": {
    "name": "ipython",
    "version": 3
   },
   "file_extension": ".py",
   "mimetype": "text/x-python",
   "name": "python",
   "nbconvert_exporter": "python",
   "pygments_lexer": "ipython3",
   "version": "3.10.2"
  },
  "orig_nbformat": 4
 },
 "nbformat": 4,
 "nbformat_minor": 2
}
